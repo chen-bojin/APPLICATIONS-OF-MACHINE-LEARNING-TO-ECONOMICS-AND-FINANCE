{
 "cells": [
  {
   "cell_type": "markdown",
   "metadata": {},
   "source": [
    "### package\n",
    "    1.Numpy\n",
    "    2.Pandas\n",
    "    3.Matplotlib\n",
    "    4.Seaborn\n",
    "    5.SciKit-Learn\n",
    "    6. install :   !pip install packagename\n",
    "\n",
    "### hot key\n",
    "    insert cell below : Alt + Enter\n",
    "    run               : Shift + Enter\n",
    "    save              : Ctrl + S\n",
    "    save and quit     : Ctrl + C\n",
    "    back last step    : Ctrl + z\n",
    " \n",
    " \n",
    "### 注意縮排\n",
    "\n",
    "\n",
    "### Arithmetic Operators 算數運算子\n",
    "* Addition 加 `+`\n",
    "* Subtraction 減 `-`\n",
    "* Multiplication 乘 `*`\n",
    "* Division 除 `/`\n",
    "* Modulus 取餘數 `%`\n",
    "* Power 次方 `**`\n",
    "* Floor Division 取商數 `//` <br/>\n",
    "  The digits after the decimal point are removed\n",
    "  \n",
    "### \"=\"\n",
    "程式裏「=」號的左邊是變數，右邊的「值」或「運算式」是運算後的結果，被儲存在「=」號左邊變數裏\n",
    "* 給定初值\n",
    "    x = 1; y = 2\n",
    "    可以直接寫成x, y = 1, 2\n",
    "* 內容交換\n",
    "    x, y = y, x\n",
    "    \n",
    "### 進行Python的程式撰寫時，其變數的命名有如下幾個規則：\n",
    "    * 不能使用關鍵字，以及內建常數、內建函式、內建類別等的名稱。\n",
    "    * 第一個字元可以是英文字母、底線或中文，其他字元可以是英文字母、底線、數字或中文。\n",
    "    * 變數名稱的英文字母有大小寫之分，也就是說：Eric和eric代表二個不同的變數名稱。\n",
    "    * 變數名稱中，不可以包含空白 (space)。\n",
    "\n",
    "### Object's Type 物件的資料型態\n",
    "* 數(numeric)\n",
    "    * x (int) 整數\n",
    "    * x.x (float) 浮點數(有小數點)\n",
    "    * True / False (Booleans) 布林值\n",
    "* 字串 (string)\n",
    "    * 'x' (str) 字串, 可以使用單引號或雙引號將字串包夾起來\n",
    "    \n",
    "### Relational Operators 關係運算子\n",
    "用於比較兩個運算元的大小是否相等，若比較的結果為「真」，就傳回True，若結果為「假」，就傳回False。\n",
    "\n",
    "* == if the values of two operands are equal, then the condition becomes true 結果為True時, 左式等於右式\n",
    "* != if values of two operands are not equal, then condition becomes true 結果為True時, 左式不等於右式\n",
    "* > 結果為True時, 左式大於右式\n",
    "* >= 結果為True時, 左式大於或等於右式\n",
    "* < 結果為True時, 左式小於右式\n",
    "* <= 結果為True時, 左式小於或等於右式\n",
    "\n"
   ]
  },
  {
   "cell_type": "code",
   "execution_count": 2,
   "metadata": {},
   "outputs": [
    {
     "data": {
      "text/plain": [
       "'C:\\\\Users\\\\chenbojin\\\\Desktop\\\\機器學習'"
      ]
     },
     "execution_count": 2,
     "metadata": {},
     "output_type": "execute_result"
    }
   ],
   "source": [
    "#取得檔案路徑\n",
    "\n",
    "import os\n",
    "os.getcwd()"
   ]
  },
  {
   "cell_type": "code",
   "execution_count": 3,
   "metadata": {},
   "outputs": [
    {
     "name": "stdout",
     "output_type": "stream",
     "text": [
      "Hello world\n"
     ]
    }
   ],
   "source": [
    "print(\"Hello world\")"
   ]
  },
  {
   "cell_type": "code",
   "execution_count": 7,
   "metadata": {},
   "outputs": [
    {
     "data": {
      "text/plain": [
       "['a', 'b', 'c', 'd']"
      ]
     },
     "execution_count": 7,
     "metadata": {},
     "output_type": "execute_result"
    }
   ],
   "source": [
    "#a\n",
    "l = ['a', 'b', 'c', 'd']\n",
    "l"
   ]
  },
  {
   "cell_type": "code",
   "execution_count": 8,
   "metadata": {},
   "outputs": [
    {
     "data": {
      "text/plain": [
       "['a',\n",
       " 'b',\n",
       " 'c',\n",
       " 'd',\n",
       " 'a',\n",
       " 'b',\n",
       " 'c',\n",
       " 'd',\n",
       " 'a',\n",
       " 'b',\n",
       " 'c',\n",
       " 'd',\n",
       " 'a',\n",
       " 'b',\n",
       " 'c',\n",
       " 'd',\n",
       " 'a',\n",
       " 'b',\n",
       " 'c',\n",
       " 'd']"
      ]
     },
     "execution_count": 8,
     "metadata": {},
     "output_type": "execute_result"
    }
   ],
   "source": [
    "#b\n",
    "l*5"
   ]
  },
  {
   "cell_type": "code",
   "execution_count": 9,
   "metadata": {},
   "outputs": [
    {
     "data": {
      "text/plain": [
       "['d', 'c', 'b', 'a']"
      ]
     },
     "execution_count": 9,
     "metadata": {},
     "output_type": "execute_result"
    }
   ],
   "source": [
    "#c\n",
    "l.reverse()\n",
    "l"
   ]
  },
  {
   "cell_type": "code",
   "execution_count": 10,
   "metadata": {},
   "outputs": [
    {
     "data": {
      "text/plain": [
       "['d', 'b', 'a']"
      ]
     },
     "execution_count": 10,
     "metadata": {},
     "output_type": "execute_result"
    }
   ],
   "source": [
    "#d\n",
    "l.remove('c')\n",
    "l"
   ]
  },
  {
   "cell_type": "code",
   "execution_count": 11,
   "metadata": {},
   "outputs": [
    {
     "data": {
      "text/plain": [
       "['d', 'f', 'b', 'a']"
      ]
     },
     "execution_count": 11,
     "metadata": {},
     "output_type": "execute_result"
    }
   ],
   "source": [
    "#e\n",
    "l.insert(1,'f')\n",
    "l"
   ]
  },
  {
   "cell_type": "code",
   "execution_count": 13,
   "metadata": {},
   "outputs": [
    {
     "name": "stdout",
     "output_type": "stream",
     "text": [
      "老師上課速度剛剛好不會太快讓我跟不上，但自己有時候還是會需要問別人，而且課後練習真的很重要\n"
     ]
    }
   ],
   "source": [
    "#use print funtion to write down your first code! 第一堂課的心得(任何的建議）\n",
    "print ('老師上課速度剛剛好不會太快讓我跟不上，但自己有時候還是會需要問別人，而且課後練習真的很重要')"
   ]
  },
  {
   "cell_type": "code",
   "execution_count": null,
   "metadata": {},
   "outputs": [],
   "source": []
  }
 ],
 "metadata": {
  "kernelspec": {
   "display_name": "Python 3",
   "language": "python",
   "name": "python3"
  },
  "language_info": {
   "codemirror_mode": {
    "name": "ipython",
    "version": 3
   },
   "file_extension": ".py",
   "mimetype": "text/x-python",
   "name": "python",
   "nbconvert_exporter": "python",
   "pygments_lexer": "ipython3",
   "version": "3.8.3"
  }
 },
 "nbformat": 4,
 "nbformat_minor": 4
}
