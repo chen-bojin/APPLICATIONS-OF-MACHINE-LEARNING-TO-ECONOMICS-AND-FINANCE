{
 "cells": [
  {
   "cell_type": "markdown",
   "metadata": {},
   "source": [
    "### if Statements 條件敘述\n",
    "if condition:\n",
    "    statement(s)\n",
    "\n",
    "條件後要加:\n",
    "敘述要內縮, 常用四個空格"
   ]
  },
  {
   "cell_type": "markdown",
   "metadata": {},
   "source": [
    "### if, elif, else Statements 條件敘述\n",
    "if condition1:\n",
    "    statement1\n",
    " elif condition2:\n",
    "    statement2\n",
    " elif condition3:\n",
    "    statement3\n",
    " ...\n",
    " else:\n",
    "    statement(n+1)\n",
    "\n",
    "程式運算:\n",
    "條件1符合, 執行敘述1\n",
    "當條件1不符合但條件2符合時, 執行敘述2\n",
    "當條件1和條件2皆不符合時, 執行敘述3 ...\n",
    "else後要加: 不要加condition\n"
   ]
  },
  {
   "cell_type": "markdown",
   "metadata": {},
   "source": [
    "### range()\n",
    "range(n), 從0到n-1\n",
    "range(initial value, end value, step value)\n",
    "從initial value到end value間隔step value, step預設為1, step為1時可以不輸入"
   ]
  },
  {
   "cell_type": "markdown",
   "metadata": {},
   "source": [
    "### for 迴圈敘述\n",
    "for var in range(initial value, end value, step value):\n",
    "    statement1\n",
    " [else:\n",
    "    statement2]"
   ]
  },
  {
   "cell_type": "markdown",
   "metadata": {},
   "source": [
    "### 輪迴\n",
    "a += b 就相当于 a = a + b"
   ]
  },
  {
   "cell_type": "markdown",
   "metadata": {},
   "source": [
    "### while 迴圈敘述\n",
    "while condition:\n",
    "    statement1\n",
    " [else:\n",
    "    statement2]"
   ]
  },
  {
   "cell_type": "markdown",
   "metadata": {},
   "source": [
    "### 查指令\n",
    "help(len)"
   ]
  },
  {
   "cell_type": "markdown",
   "metadata": {},
   "source": [
    "### functions 使用者函數\n",
    "def functionName (parameter1, parameter2, parameter3...):\n",
    "    statements\n",
    "    [return / return value]\n",
    "\n",
    "[Note]:\n",
    "\n",
    "def列的最後要加:\n",
    "執行內容要縮排, 常用四個空格\n",
    "函式被呼叫才會執行，\n",
    "函式可以沒有參數或多個參數。當函式有多個參數時，參數有順序上的關係，參數的個數及順序均不能弄錯, 如果沒有依照定義函數時的參數順序填入, 填入參數時必須指明參數名稱。有預設值的參數要放在最後, 呼叫時有預設值的參數不一定要填"
   ]
  },
  {
   "cell_type": "markdown",
   "metadata": {},
   "source": [
    "### input 函數\n",
    "Allow user input\n",
    "input(prompt)\n",
    "\n",
    "[Note]\n",
    "prompt: A String, representing a default message before the input."
   ]
  },
  {
   "cell_type": "markdown",
   "metadata": {},
   "source": [
    "## Exercises\n",
    "1. You are driving a little too fast, and a police officer stops you. <br/>\n",
    "   Write a function to return one of 3 possible results: <br/> \n",
    "   \"No ticket\", \"Small ticket\", or \"Big Ticket\".\n",
    "  \n",
    "   - If your speed is 60 or less, the result is \"No Ticket\". \n",
    "   - If speed is between 61 and 80 inclusive, the result is \"Small Ticket\". \n",
    "   - If speed is 81 or more, the result is \"Big Ticket\". \n",
    "\n",
    "   Unless it is your birthday (encoded as a boolean value in the parameters of the function) -- on your birthday, your speed can be 5 higher in all cases."
   ]
  },
  {
   "cell_type": "code",
   "execution_count": 1,
   "metadata": {},
   "outputs": [
    {
     "name": "stdout",
     "output_type": "stream",
     "text": [
      "車速...67\n",
      "Small Ticket\n"
     ]
    }
   ],
   "source": [
    "score = eval(input(\"車速...\"))\n",
    "if score > 80:\n",
    "    print('Big ticket')\n",
    "elif   score >60 & score <=80:\n",
    "    print('Small Ticket')\n",
    "else:\n",
    "    print('No Ticket')"
   ]
  },
  {
   "cell_type": "markdown",
   "metadata": {},
   "source": [
    "2. 寫一個函數isPrime, 參數n, 判n是不是質數, 如果是回傳True, 不是回傳False"
   ]
  },
  {
   "cell_type": "code",
   "execution_count": 10,
   "metadata": {},
   "outputs": [
    {
     "name": "stdout",
     "output_type": "stream",
     "text": [
      "請輸入一個數字5\n",
      "5是質數!\n"
     ]
    }
   ],
   "source": [
    "n = int(input('請輸入一個數字'))\n",
    "if(n==2):\n",
    "    print(\"2是質數\")\n",
    "else:\n",
    "    for i in range (2,n):\n",
    "        if(n % i ==0):\n",
    "            print ('%d不是質數!'%n )\n",
    "            break\n",
    "    else:\n",
    "        print('%d是質數!'%n)\n",
    "        "
   ]
  },
  {
   "cell_type": "markdown",
   "metadata": {},
   "source": [
    "3. 要求使用者輸入密碼, 並將使用者輸入的密碼儲存於password識別字中, 判斷密碼是否等於<1234> <br/>\n",
    "   - 如果密碼是<1234>, 就顯示\"你輸入的密碼正確\"\n",
    "   - 如果密碼不是<1234>, 就顯示\"你輸入的密碼錯誤\""
   ]
  },
  {
   "cell_type": "code",
   "execution_count": 4,
   "metadata": {},
   "outputs": [
    {
     "name": "stdout",
     "output_type": "stream",
     "text": [
      "password...1234\n",
      "你輸入的密碼正確\n"
     ]
    }
   ],
   "source": [
    "password = eval(input(\"password...\"))\n",
    "if password == 1234 :\n",
    "    print('你輸入的密碼正確')\n",
    "else:\n",
    "    print('你輸入的密碼錯誤')"
   ]
  },
  {
   "cell_type": "code",
   "execution_count": null,
   "metadata": {},
   "outputs": [],
   "source": []
  }
 ],
 "metadata": {
  "kernelspec": {
   "display_name": "Python 3",
   "language": "python",
   "name": "python3"
  },
  "language_info": {
   "codemirror_mode": {
    "name": "ipython",
    "version": 3
   },
   "file_extension": ".py",
   "mimetype": "text/x-python",
   "name": "python",
   "nbconvert_exporter": "python",
   "pygments_lexer": "ipython3",
   "version": "3.8.3"
  }
 },
 "nbformat": 4,
 "nbformat_minor": 4
}
